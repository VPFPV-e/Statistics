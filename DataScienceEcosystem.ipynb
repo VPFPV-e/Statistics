{
 "cells": [
  {
   "cell_type": "markdown",
   "id": "d03cb344-6805-4230-a078-a9884a5b4936",
   "metadata": {},
   "source": [
    "# Data Science Tools and Ecosystem"
   ]
  },
  {
   "cell_type": "markdown",
   "id": "28cfc103-11e0-42b0-8018-0a088177f7fd",
   "metadata": {},
   "source": [
    "In this notebook, Data Science Tools and Ecosystem are summarized."
   ]
  },
  {
   "cell_type": "markdown",
   "id": "6bb7c935-74a4-475b-9949-e9f3104a9fea",
   "metadata": {},
   "source": [
    "Some of the popular languages that Data Scientists use are:\n",
    "\n",
    "1. Python\n",
    "2. R\n",
    "3. SQL"
   ]
  },
  {
   "cell_type": "markdown",
   "id": "5576301b-b643-4998-a9cb-ed0a2eef0308",
   "metadata": {},
   "source": [
    "Some of the commonly used libraries used by Data Scientists include:\n",
    "\n",
    "1. Pandas\n",
    "2. NumPy\n",
    "3. Matplotlib"
   ]
  },
  {
   "cell_type": "markdown",
   "id": "eb43e621-ecf3-496c-84ff-049881cc7b4a",
   "metadata": {},
   "source": [
    "| Data Science Tools |\n",
    "|--------------------|\n",
    "| Jupyter Notebook  |\n",
    "| RStudio           |\n",
    "| Apache   |\n"
   ]
  },
  {
   "cell_type": "markdown",
   "id": "1bb92f1e-c19a-4756-9933-cb0d293ba483",
   "metadata": {},
   "source": [
    "### Below are a few examples of evaluating arithmetic expressions in Python.\n"
   ]
  },
  {
   "cell_type": "code",
   "execution_count": 1,
   "id": "ea9b1500-d1be-4b3d-9c5a-51133eddeaa9",
   "metadata": {},
   "outputs": [
    {
     "data": {
      "text/plain": [
       "17"
      ]
     },
     "execution_count": 1,
     "metadata": {},
     "output_type": "execute_result"
    }
   ],
   "source": [
    "# This is a simple arithmetic expression to multiply then add integers\n",
    "(3 * 4) + 5\n"
   ]
  },
  {
   "cell_type": "code",
   "execution_count": 2,
   "id": "a4108c71-c128-4bd1-a24f-ffbffb07917d",
   "metadata": {},
   "outputs": [
    {
     "data": {
      "text/plain": [
       "3.3333333333333335"
      ]
     },
     "execution_count": 2,
     "metadata": {},
     "output_type": "execute_result"
    }
   ],
   "source": [
    "# This will convert 200 minutes to hours by dividing by 60\n",
    "200 / 60\n"
   ]
  },
  {
   "cell_type": "markdown",
   "id": "5ab95230-a4d1-4c3e-833e-adcb38bd0e55",
   "metadata": {},
   "source": [
    "**Objectives:**\n",
    "\n",
    "- List popular languages for Data Science\n",
    "- Identify commonly used libraries in Data Science\n",
    "- Explore open-source tools used in Data Science\n",
    "- Perform basic arithmetic operations in Python\n",
    "- Convert minutes to hours using Python expressions\n"
   ]
  },
  {
   "cell_type": "markdown",
   "id": "404997e5-4adc-4074-bd0c-d8a0dd5f10e5",
   "metadata": {},
   "source": [
    "## Author\n",
    "\n",
    "Vadim Pariev"
   ]
  },
  {
   "cell_type": "code",
   "execution_count": null,
   "id": "40fd6da9-6d7c-4471-ac7d-a9926f83331c",
   "metadata": {},
   "outputs": [],
   "source": []
  }
 ],
 "metadata": {
  "kernelspec": {
   "display_name": "Python 3 (ipykernel)",
   "language": "python",
   "name": "python3"
  },
  "language_info": {
   "codemirror_mode": {
    "name": "ipython",
    "version": 3
   },
   "file_extension": ".py",
   "mimetype": "text/x-python",
   "name": "python",
   "nbconvert_exporter": "python",
   "pygments_lexer": "ipython3",
   "version": "3.11.3"
  }
 },
 "nbformat": 4,
 "nbformat_minor": 5
}
